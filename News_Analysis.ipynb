{
  "nbformat": 4,
  "nbformat_minor": 0,
  "metadata": {
    "colab": {
      "provenance": [],
      "collapsed_sections": []
    },
    "kernelspec": {
      "name": "python3",
      "display_name": "Python 3"
    },
    "accelerator": "GPU"
  },
  "cells": [
    {
      "cell_type": "markdown",
      "metadata": {
        "id": "vo10O6Lh8KdL"
      },
      "source": [
        "## Load the Data "
      ]
    },
    {
      "cell_type": "code",
      "metadata": {
        "id": "HNYZ0h2amqsK",
        "colab": {
          "base_uri": "https://localhost:8080/",
          "height": 121
        },
        "outputId": "5596fdee-31af-4a20-8f00-d33f2fcc5ef6"
      },
      "source": [
        "from google.colab import drive\n",
        "drive.mount('/content/gdrive')\n"
      ],
      "execution_count": null,
      "outputs": [
        {
          "output_type": "stream",
          "text": [
            "Go to this URL in a browser: https://accounts.google.com/o/oauth2/auth?client_id=947318989803-6bn6qk8qdgf4n4g3pfee6491hc0brc4i.apps.googleusercontent.com&redirect_uri=urn%3aietf%3awg%3aoauth%3a2.0%3aoob&response_type=code&scope=email%20https%3a%2f%2fwww.googleapis.com%2fauth%2fdocs.test%20https%3a%2f%2fwww.googleapis.com%2fauth%2fdrive%20https%3a%2f%2fwww.googleapis.com%2fauth%2fdrive.photos.readonly%20https%3a%2f%2fwww.googleapis.com%2fauth%2fpeopleapi.readonly\n",
            "\n",
            "Enter your authorization code:\n",
            "··········\n",
            "Mounted at /content/gdrive\n"
          ],
          "name": "stdout"
        }
      ]
    },
    {
      "cell_type": "code",
      "metadata": {
        "id": "-XrMMPPc8RwU",
        "colab": {
          "base_uri": "https://localhost:8080/",
          "height": 34
        },
        "outputId": "17ef433b-c106-4d94-9fea-edaa019694a4"
      },
      "source": [
        "!ls -ls /content/gdrive/'My Drive'/WJaguarTest"
      ],
      "execution_count": null,
      "outputs": [
        {
          "output_type": "stream",
          "text": [
            "ls: cannot access '/content/gdrive/My Drive/WJaguarTest': No such file or directory\n"
          ],
          "name": "stdout"
        }
      ]
    },
    {
      "cell_type": "code",
      "metadata": {
        "id": "1SsN6I3_js3k",
        "colab": {
          "base_uri": "https://localhost:8080/",
          "height": 122
        },
        "outputId": "e24f1d99-f3ac-42de-d4bc-1cc7b090a639"
      },
      "source": [
        "from google.colab import drive\n",
        "drive.mount('/content/drive')"
      ],
      "execution_count": null,
      "outputs": [
        {
          "output_type": "stream",
          "text": [
            "Go to this URL in a browser: https://accounts.google.com/o/oauth2/auth?client_id=947318989803-6bn6qk8qdgf4n4g3pfee6491hc0brc4i.apps.googleusercontent.com&redirect_uri=urn%3aietf%3awg%3aoauth%3a2.0%3aoob&response_type=code&scope=email%20https%3a%2f%2fwww.googleapis.com%2fauth%2fdocs.test%20https%3a%2f%2fwww.googleapis.com%2fauth%2fdrive%20https%3a%2f%2fwww.googleapis.com%2fauth%2fdrive.photos.readonly%20https%3a%2f%2fwww.googleapis.com%2fauth%2fpeopleapi.readonly\n",
            "\n",
            "Enter your authorization code:\n",
            "··········\n",
            "Mounted at /content/drive\n"
          ],
          "name": "stdout"
        }
      ]
    },
    {
      "cell_type": "code",
      "metadata": {
        "id": "f4oUoCHY-2ts",
        "colab": {
          "base_uri": "https://localhost:8080/",
          "height": 51
        },
        "outputId": "aae99622-b7a9-494f-f71b-cd3fbf01446e"
      },
      "source": [
        "!unzip   /content/gdrive/'My Drive'/WJaguarTest/news-category-dataset.zip"
      ],
      "execution_count": null,
      "outputs": [
        {
          "output_type": "stream",
          "text": [
            "Archive:  /content/gdrive/My Drive/WJaguarTest/news-category-dataset.zip\n",
            "  inflating: News_Category_Dataset_v2.json  \n"
          ],
          "name": "stdout"
        }
      ]
    },
    {
      "cell_type": "markdown",
      "metadata": {
        "id": "bux4gFTj9fYC"
      },
      "source": [
        "#### Load libraries we will need "
      ]
    },
    {
      "cell_type": "code",
      "metadata": {
        "id": "tb81Zjbj_l4o"
      },
      "source": [
        "import pandas as pd\n",
        "import numpy as np\n",
        "from zipfile import ZipFile\n",
        "import re\n",
        "from nltk.stem.snowball import SnowballStemmer\n",
        "from sklearn.pipeline import Pipeline\n",
        "from sklearn.linear_model import LogisticRegression\n",
        "from sklearn.svm import LinearSVC\n",
        "from sklearn.linear_model import PassiveAggressiveClassifier\n",
        "from sklearn.naive_bayes import MultinomialNB\n",
        "from sklearn.feature_extraction.text import TfidfVectorizer, CountVectorizer, TfidfTransformer\n",
        "from sklearn.neighbors import KNeighborsClassifier\n",
        "from sklearn.model_selection import GridSearchCV\n",
        "from sklearn.metrics import accuracy_score, confusion_matrix, roc_auc_score\n",
        "import nltk\n",
        "from nltk.stem import WordNetLemmatizer\n",
        "from nltk import word_tokenize\n",
        "from nltk.corpus import stopwords\n",
        "import string\n",
        "from sklearn.linear_model import SGDClassifier\n",
        "import logging\n",
        "from textblob import TextBlob\n",
        "from sklearn.preprocessing import LabelEncoder\n",
        "from sklearn.model_selection import train_test_split"
      ],
      "execution_count": null,
      "outputs": []
    },
    {
      "cell_type": "code",
      "metadata": {
        "id": "2qppuBfdCkSI",
        "colab": {
          "base_uri": "https://localhost:8080/",
          "height": 34
        },
        "outputId": "f7493baf-56fc-4615-e2c9-ff9569e0f16a"
      },
      "source": [
        "df_news = pd.read_json(\"/content/gdrive/My Drive/News_Category_Dataset_v2.json\", lines = True)\n",
        "df_news.columns"
      ],
      "execution_count": null,
      "outputs": [
        {
          "output_type": "execute_result",
          "data": {
            "text/plain": [
              "Index(['category', 'headline', 'authors', 'link', 'short_description', 'date'], dtype='object')"
            ]
          },
          "metadata": {
            "tags": []
          },
          "execution_count": 4
        }
      ]
    },
    {
      "cell_type": "code",
      "metadata": {
        "id": "CzciHNksGbni",
        "colab": {
          "base_uri": "https://localhost:8080/",
          "height": 235
        },
        "outputId": "009de2d3-d80d-4375-f6f3-381299372cd9"
      },
      "source": [
        "df_news.info()"
      ],
      "execution_count": null,
      "outputs": [
        {
          "output_type": "stream",
          "text": [
            "<class 'pandas.core.frame.DataFrame'>\n",
            "RangeIndex: 200853 entries, 0 to 200852\n",
            "Data columns (total 6 columns):\n",
            " #   Column             Non-Null Count   Dtype         \n",
            "---  ------             --------------   -----         \n",
            " 0   category           200853 non-null  object        \n",
            " 1   headline           200853 non-null  object        \n",
            " 2   authors            200853 non-null  object        \n",
            " 3   link               200853 non-null  object        \n",
            " 4   short_description  200853 non-null  object        \n",
            " 5   date               200853 non-null  datetime64[ns]\n",
            "dtypes: datetime64[ns](1), object(5)\n",
            "memory usage: 9.2+ MB\n"
          ],
          "name": "stdout"
        }
      ]
    },
    {
      "cell_type": "code",
      "metadata": {
        "id": "tl5GHlm_CwKP",
        "colab": {
          "base_uri": "https://localhost:8080/",
          "height": 346
        },
        "outputId": "897e5246-4f65-443a-db4d-1ae585c43bc7"
      },
      "source": [
        "df_news.head()"
      ],
      "execution_count": null,
      "outputs": [
        {
          "output_type": "execute_result",
          "data": {
            "text/html": [
              "<div>\n",
              "<style scoped>\n",
              "    .dataframe tbody tr th:only-of-type {\n",
              "        vertical-align: middle;\n",
              "    }\n",
              "\n",
              "    .dataframe tbody tr th {\n",
              "        vertical-align: top;\n",
              "    }\n",
              "\n",
              "    .dataframe thead th {\n",
              "        text-align: right;\n",
              "    }\n",
              "</style>\n",
              "<table border=\"1\" class=\"dataframe\">\n",
              "  <thead>\n",
              "    <tr style=\"text-align: right;\">\n",
              "      <th></th>\n",
              "      <th>category</th>\n",
              "      <th>headline</th>\n",
              "      <th>authors</th>\n",
              "      <th>link</th>\n",
              "      <th>short_description</th>\n",
              "      <th>date</th>\n",
              "    </tr>\n",
              "  </thead>\n",
              "  <tbody>\n",
              "    <tr>\n",
              "      <th>0</th>\n",
              "      <td>CRIME</td>\n",
              "      <td>There Were 2 Mass Shootings In Texas Last Week...</td>\n",
              "      <td>Melissa Jeltsen</td>\n",
              "      <td>https://www.huffingtonpost.com/entry/texas-ama...</td>\n",
              "      <td>She left her husband. He killed their children...</td>\n",
              "      <td>2018-05-26</td>\n",
              "    </tr>\n",
              "    <tr>\n",
              "      <th>1</th>\n",
              "      <td>ENTERTAINMENT</td>\n",
              "      <td>Will Smith Joins Diplo And Nicky Jam For The 2...</td>\n",
              "      <td>Andy McDonald</td>\n",
              "      <td>https://www.huffingtonpost.com/entry/will-smit...</td>\n",
              "      <td>Of course it has a song.</td>\n",
              "      <td>2018-05-26</td>\n",
              "    </tr>\n",
              "    <tr>\n",
              "      <th>2</th>\n",
              "      <td>ENTERTAINMENT</td>\n",
              "      <td>Hugh Grant Marries For The First Time At Age 57</td>\n",
              "      <td>Ron Dicker</td>\n",
              "      <td>https://www.huffingtonpost.com/entry/hugh-gran...</td>\n",
              "      <td>The actor and his longtime girlfriend Anna Ebe...</td>\n",
              "      <td>2018-05-26</td>\n",
              "    </tr>\n",
              "    <tr>\n",
              "      <th>3</th>\n",
              "      <td>ENTERTAINMENT</td>\n",
              "      <td>Jim Carrey Blasts 'Castrato' Adam Schiff And D...</td>\n",
              "      <td>Ron Dicker</td>\n",
              "      <td>https://www.huffingtonpost.com/entry/jim-carre...</td>\n",
              "      <td>The actor gives Dems an ass-kicking for not fi...</td>\n",
              "      <td>2018-05-26</td>\n",
              "    </tr>\n",
              "    <tr>\n",
              "      <th>4</th>\n",
              "      <td>ENTERTAINMENT</td>\n",
              "      <td>Julianna Margulies Uses Donald Trump Poop Bags...</td>\n",
              "      <td>Ron Dicker</td>\n",
              "      <td>https://www.huffingtonpost.com/entry/julianna-...</td>\n",
              "      <td>The \"Dietland\" actress said using the bags is ...</td>\n",
              "      <td>2018-05-26</td>\n",
              "    </tr>\n",
              "  </tbody>\n",
              "</table>\n",
              "</div>"
            ],
            "text/plain": [
              "        category  ...       date\n",
              "0          CRIME  ... 2018-05-26\n",
              "1  ENTERTAINMENT  ... 2018-05-26\n",
              "2  ENTERTAINMENT  ... 2018-05-26\n",
              "3  ENTERTAINMENT  ... 2018-05-26\n",
              "4  ENTERTAINMENT  ... 2018-05-26\n",
              "\n",
              "[5 rows x 6 columns]"
            ]
          },
          "metadata": {
            "tags": []
          },
          "execution_count": 6
        }
      ]
    },
    {
      "cell_type": "markdown",
      "metadata": {
        "id": "VTD8OxQbETFQ"
      },
      "source": [
        "Category Distribution"
      ]
    },
    {
      "cell_type": "code",
      "metadata": {
        "id": "IIfIYr1MElyq",
        "colab": {
          "base_uri": "https://localhost:8080/",
          "height": 134
        },
        "outputId": "63c4ca8b-dac9-4327-be51-b9af1b24bdc4"
      },
      "source": [
        "len(df_news['category'].unique())\n",
        "print(df_news['category'].unique())"
      ],
      "execution_count": null,
      "outputs": [
        {
          "output_type": "stream",
          "text": [
            "['CRIME' 'ENTERTAINMENT' 'WORLD NEWS' 'IMPACT' 'POLITICS' 'WEIRD NEWS'\n",
            " 'BLACK VOICES' 'WOMEN' 'COMEDY' 'QUEER VOICES' 'SPORTS' 'BUSINESS'\n",
            " 'TRAVEL' 'MEDIA' 'TECH' 'RELIGION' 'SCIENCE' 'LATINO VOICES' 'EDUCATION'\n",
            " 'COLLEGE' 'PARENTS' 'ARTS & CULTURE' 'STYLE' 'GREEN' 'TASTE'\n",
            " 'HEALTHY LIVING' 'THE WORLDPOST' 'GOOD NEWS' 'WORLDPOST' 'FIFTY' 'ARTS'\n",
            " 'WELLNESS' 'PARENTING' 'HOME & LIVING' 'STYLE & BEAUTY' 'DIVORCE'\n",
            " 'WEDDINGS' 'FOOD & DRINK' 'MONEY' 'ENVIRONMENT' 'CULTURE & ARTS']\n"
          ],
          "name": "stdout"
        }
      ]
    },
    {
      "cell_type": "markdown",
      "metadata": {
        "id": "7ZV-k5hUEszj"
      },
      "source": [
        "There are 41 categories in the dataset"
      ]
    },
    {
      "cell_type": "code",
      "metadata": {
        "id": "Xhs8Ip2zC6Kh",
        "colab": {
          "base_uri": "https://localhost:8080/",
          "height": 685
        },
        "outputId": "e6ee7b65-b43e-48fd-d679-ce10fa7e7b35"
      },
      "source": [
        "df_news['category'].value_counts().plot( kind='bar', figsize=(15,10))"
      ],
      "execution_count": null,
      "outputs": [
        {
          "output_type": "execute_result",
          "data": {
            "text/plain": [
              "<matplotlib.axes._subplots.AxesSubplot at 0x7f29ea107f28>"
            ]
          },
          "metadata": {
            "tags": []
          },
          "execution_count": 8
        },
        {
          "output_type": "display_data",
          "data": {
            "image/png": "[encoded data removed]",
            "text/plain": [
              "<Figure size 1080x720 with 1 Axes>"
            ]
          },
          "metadata": {
            "tags": [],
            "needs_background": "light"
          }
        }
      ]
    },
    {
      "cell_type": "markdown",
      "metadata": {
        "id": "wF7A9s4AKcpk"
      },
      "source": [
        "#### Data pre-processing"
      ]
    },
    {
      "cell_type": "markdown",
      "metadata": {
        "id": "1rPGHAy9-bIX"
      },
      "source": [
        "load the nltk utilities"
      ]
    },
    {
      "cell_type": "code",
      "metadata": {
        "id": "ucHFsNxpMf3c",
        "colab": {
          "base_uri": "https://localhost:8080/",
          "height": 185
        },
        "outputId": "54a79841-3a9a-4dc6-bb4d-526205410c95"
      },
      "source": [
        "import nltk\n",
        "nltk.download('punkt')\n",
        "nltk.download('stopwords')\n",
        "nltk.download('wordnet')\n",
        "nltk.download('averaged_perceptron_tagger')"
      ],
      "execution_count": null,
      "outputs": [
        {
          "output_type": "stream",
          "text": [
            "[nltk_data] Downloading package punkt to /root/nltk_data...\n",
            "[nltk_data]   Unzipping tokenizers/punkt.zip.\n",
            "[nltk_data] Downloading package stopwords to /root/nltk_data...\n",
            "[nltk_data]   Unzipping corpora/stopwords.zip.\n",
            "[nltk_data] Downloading package wordnet to /root/nltk_data...\n",
            "[nltk_data]   Unzipping corpora/wordnet.zip.\n",
            "[nltk_data] Downloading package averaged_perceptron_tagger to\n",
            "[nltk_data]     /root/nltk_data...\n",
            "[nltk_data]   Unzipping taggers/averaged_perceptron_tagger.zip.\n"
          ],
          "name": "stdout"
        },
        {
          "output_type": "execute_result",
          "data": {
            "text/plain": [
              "True"
            ]
          },
          "metadata": {
            "tags": []
          },
          "execution_count": 9
        }
      ]
    },
    {
      "cell_type": "markdown",
      "metadata": {
        "id": "5YEzU1Ju-jwP"
      },
      "source": [
        "#### Function to clean, tokenize, remove stop word, and not alphanumeric from data"
      ]
    },
    {
      "cell_type": "code",
      "metadata": {
        "id": "PhsZm0H4EN-Q"
      },
      "source": [
        "stop_words_ = set(stopwords.words('english'))\n",
        "wn = WordNetLemmatizer()\n",
        "\n",
        "my_sw = ['make', 'amp',  'news','new' ,'time', 'u','s', 'photos',  'get', 'say']\n",
        "def black_txt(token):\n",
        "    return  token not in stop_words_ and token not in list(string.punctuation)  and len(token)>2 and token not in my_sw\n",
        "  \n",
        "  \n",
        "def clean_txt(text):\n",
        "  clean_text = []\n",
        "  clean_text2 = []\n",
        "  text = re.sub(\"'\", \"\",text)\n",
        "  text=re.sub(\"(\\\\d|\\\\W)+\",\" \",text)    \n",
        "  clean_text = [ wn.lemmatize(word, pos=\"v\") for word in word_tokenize(text.lower()) if black_txt(word)]\n",
        "  clean_text2 = [word for word in clean_text if black_txt(word)]\n",
        "  return \" \".join(clean_text2)"
      ],
      "execution_count": null,
      "outputs": []
    },
    {
      "cell_type": "code",
      "metadata": {
        "id": "-T249LMOPD1s",
        "colab": {
          "base_uri": "https://localhost:8080/",
          "height": 35
        },
        "outputId": "5f9af610-bdf5-4f3a-c0bf-0597c8ea48c0"
      },
      "source": [
        "df_news.category[126] "
      ],
      "execution_count": null,
      "outputs": [
        {
          "output_type": "execute_result",
          "data": {
            "application/vnd.google.colaboratory.intrinsic+json": {
              "type": "string"
            },
            "text/plain": [
              "'TRAVEL'"
            ]
          },
          "metadata": {
            "tags": []
          },
          "execution_count": 11
        }
      ]
    },
    {
      "cell_type": "markdown",
      "metadata": {
        "id": "20vWuwgtnkE2"
      },
      "source": [
        "#### Processing the Data and TF-IDF"
      ]
    },
    {
      "cell_type": "markdown",
      "metadata": {
        "id": "CxhFnyyjnxoG"
      },
      "source": [
        "We need to merge the categories _WORDLPOST_ with _THE WORDPOST_, because there *are* basically the same, next we combine the columns _headline with _short_description_ these are our predictor text"
      ]
    },
    {
      "cell_type": "code",
      "metadata": {
        "id": "d6LAienOaYWK"
      },
      "source": [
        "df_news.category = df_news.category.map(lambda x: \"WORLDPOST\" if x == \"THE WORLDPOST\" else x)"
      ],
      "execution_count": null,
      "outputs": []
    },
    {
      "cell_type": "code",
      "metadata": {
        "id": "Krxkn3DlRGKy"
      },
      "source": [
        "df_news['text'] = df_news['headline'] + \" \" + df_news['short_description']"
      ],
      "execution_count": null,
      "outputs": []
    },
    {
      "cell_type": "markdown",
      "metadata": {
        "id": "ekblie6hHusI"
      },
      "source": [
        "example output"
      ]
    },
    {
      "cell_type": "code",
      "metadata": {
        "id": "8szUOO89F7Pb",
        "colab": {
          "base_uri": "https://localhost:8080/",
          "height": 87
        },
        "outputId": "b3bf64b2-40bd-43f7-9ad3-f487e6823e03"
      },
      "source": [
        "print(\"headline: \" + df_news.headline[10])\n",
        "print(\"description: \" + df_news.short_description[10])\n",
        "print(\"text: \" + df_news.text[10])"
      ],
      "execution_count": null,
      "outputs": [
        {
          "output_type": "stream",
          "text": [
            "headline: Justin Timberlake Visits Texas School Shooting Victims\n",
            "description: The pop star also wore a \"Santa Fe Strong\" shirt at his show in Houston.\n",
            "text: Justin Timberlake Visits Texas School Shooting Victims The pop star also wore a \"Santa Fe Strong\" shirt at his show in Houston.\n"
          ],
          "name": "stdout"
        }
      ]
    },
    {
      "cell_type": "code",
      "metadata": {
        "id": "ko8SdYaAKkNz",
        "colab": {
          "base_uri": "https://localhost:8080/",
          "height": 35
        },
        "outputId": "d135747b-b3b8-4b86-b4e1-0c67e7460d95"
      },
      "source": [
        "clean_txt(df_news.text[10])"
      ],
      "execution_count": null,
      "outputs": [
        {
          "output_type": "execute_result",
          "data": {
            "application/vnd.google.colaboratory.intrinsic+json": {
              "type": "string"
            },
            "text/plain": [
              "'justin timberlake visit texas school shoot victims pop star also wear santa strong shirt show houston'"
            ]
          },
          "metadata": {
            "tags": []
          },
          "execution_count": 15
        }
      ]
    },
    {
      "cell_type": "code",
      "metadata": {
        "id": "oUrYjPuCX6pY",
        "colab": {
          "base_uri": "https://localhost:8080/",
          "height": 52
        },
        "outputId": "75c6e912-c036-4a67-9237-638d32f50d0b"
      },
      "source": [
        "clean_txt(df_news.text[5])"
      ],
      "execution_count": null,
      "outputs": [
        {
          "output_type": "execute_result",
          "data": {
            "application/vnd.google.colaboratory.intrinsic+json": {
              "type": "string"
            },
            "text/plain": [
              "'morgan freeman devastate sexual harassment claim could undermine legacy right equate horrific incidents sexual assault misplace compliment humor statement'"
            ]
          },
          "metadata": {
            "tags": []
          },
          "execution_count": 16
        }
      ]
    },
    {
      "cell_type": "markdown",
      "metadata": {
        "id": "URKkbPdHobmv"
      },
      "source": [
        "#### Next we are going to create some news variables columns to try to improve the quaity of our classifier, we will create:\n",
        " * Polarity: to check the sentiment of the text\n",
        " * Subjectivity: to check if text is objective or subjective\n",
        " * The number of word in the text"
      ]
    },
    {
      "cell_type": "code",
      "metadata": {
        "id": "PQwmHlggLQh3",
        "colab": {
          "base_uri": "https://localhost:8080/",
          "height": 52
        },
        "outputId": "41f44174-f48e-4538-a5fb-6fbf23f40ec4"
      },
      "source": [
        "#check whether spelling is correct\n",
        "blob = TextBlob((df_news.text[11]))\n",
        "str(blob.correct())"
      ],
      "execution_count": null,
      "outputs": [
        {
          "output_type": "execute_result",
          "data": {
            "application/vnd.google.colaboratory.intrinsic+json": {
              "type": "string"
            },
            "text/plain": [
              "\"South Organ President Meets North More's Him Long In To Talk Plump Summit The two met to have the way for a summit between North Organ and the U.S.\""
            ]
          },
          "metadata": {
            "tags": []
          },
          "execution_count": 17
        }
      ]
    },
    {
      "cell_type": "code",
      "metadata": {
        "id": "D_bYs7lYll7U",
        "colab": {
          "base_uri": "https://localhost:8080/",
          "height": 54
        },
        "outputId": "9b0eab7c-dce8-4258-f060-286fee38460b"
      },
      "source": [
        "print(df_news.text[11])"
      ],
      "execution_count": null,
      "outputs": [
        {
          "output_type": "stream",
          "text": [
            "South Korean President Meets North Korea's Kim Jong Un To Talk Trump Summit The two met to pave the way for a summit between North Korean and the U.S.\n"
          ],
          "name": "stdout"
        }
      ]
    },
    {
      "cell_type": "code",
      "metadata": {
        "id": "0jZIFDWffZZG"
      },
      "source": [
        "def polarity_txt(text):\n",
        "  return TextBlob(text).sentiment[0] "
      ],
      "execution_count": null,
      "outputs": []
    },
    {
      "cell_type": "code",
      "metadata": {
        "id": "53k1xVBnf4ii"
      },
      "source": [
        "def subj_txt(text):\n",
        "  return  TextBlob(text).sentiment[1]"
      ],
      "execution_count": null,
      "outputs": []
    },
    {
      "cell_type": "code",
      "metadata": {
        "id": "ldkuSvy8gIHj"
      },
      "source": [
        "#check the length of the preprocessed text\n",
        "def len_text(text):\n",
        "  if len(text.split())>0:\n",
        "         return len(set(clean_txt(text).split()))/ len(text.split())\n",
        "  else:\n",
        "         return 0"
      ],
      "execution_count": null,
      "outputs": []
    },
    {
      "cell_type": "code",
      "metadata": {
        "id": "6O6-eHthgahT",
        "colab": {
          "base_uri": "https://localhost:8080/",
          "height": 291
        },
        "outputId": "ca89d2fb-ad30-4067-9fa0-afcdb9f5b4a4"
      },
      "source": [
        "df_news['polarity'] = df_news['text'].apply(polarity_txt)\n",
        "df_news.head(2)"
      ],
      "execution_count": null,
      "outputs": [
        {
          "output_type": "execute_result",
          "data": {
            "text/html": [
              "<div>\n",
              "<style scoped>\n",
              "    .dataframe tbody tr th:only-of-type {\n",
              "        vertical-align: middle;\n",
              "    }\n",
              "\n",
              "    .dataframe tbody tr th {\n",
              "        vertical-align: top;\n",
              "    }\n",
              "\n",
              "    .dataframe thead th {\n",
              "        text-align: right;\n",
              "    }\n",
              "</style>\n",
              "<table border=\"1\" class=\"dataframe\">\n",
              "  <thead>\n",
              "    <tr style=\"text-align: right;\">\n",
              "      <th></th>\n",
              "      <th>category</th>\n",
              "      <th>headline</th>\n",
              "      <th>authors</th>\n",
              "      <th>link</th>\n",
              "      <th>short_description</th>\n",
              "      <th>date</th>\n",
              "      <th>text</th>\n",
              "      <th>polarity</th>\n",
              "    </tr>\n",
              "  </thead>\n",
              "  <tbody>\n",
              "    <tr>\n",
              "      <th>0</th>\n",
              "      <td>CRIME</td>\n",
              "      <td>There Were 2 Mass Shootings In Texas Last Week...</td>\n",
              "      <td>Melissa Jeltsen</td>\n",
              "      <td>https://www.huffingtonpost.com/entry/texas-ama...</td>\n",
              "      <td>She left her husband. He killed their children...</td>\n",
              "      <td>2018-05-26</td>\n",
              "      <td>There Were 2 Mass Shootings In Texas Last Week...</td>\n",
              "      <td>-0.05</td>\n",
              "    </tr>\n",
              "    <tr>\n",
              "      <th>1</th>\n",
              "      <td>ENTERTAINMENT</td>\n",
              "      <td>Will Smith Joins Diplo And Nicky Jam For The 2...</td>\n",
              "      <td>Andy McDonald</td>\n",
              "      <td>https://www.huffingtonpost.com/entry/will-smit...</td>\n",
              "      <td>Of course it has a song.</td>\n",
              "      <td>2018-05-26</td>\n",
              "      <td>Will Smith Joins Diplo And Nicky Jam For The 2...</td>\n",
              "      <td>0.00</td>\n",
              "    </tr>\n",
              "  </tbody>\n",
              "</table>\n",
              "</div>"
            ],
            "text/plain": [
              "        category  ... polarity\n",
              "0          CRIME  ...    -0.05\n",
              "1  ENTERTAINMENT  ...     0.00\n",
              "\n",
              "[2 rows x 8 columns]"
            ]
          },
          "metadata": {
            "tags": []
          },
          "execution_count": 22
        }
      ]
    },
    {
      "cell_type": "code",
      "metadata": {
        "id": "wJN36PXth08E",
        "colab": {
          "base_uri": "https://localhost:8080/",
          "height": 311
        },
        "outputId": "e4264b81-4e8b-4578-c559-051a412f44c9"
      },
      "source": [
        "df_news['subjectivity'] = df_news['text'].apply(subj_txt)\n",
        "df_news.head(2)"
      ],
      "execution_count": null,
      "outputs": [
        {
          "output_type": "execute_result",
          "data": {
            "text/html": [
              "<div>\n",
              "<style scoped>\n",
              "    .dataframe tbody tr th:only-of-type {\n",
              "        vertical-align: middle;\n",
              "    }\n",
              "\n",
              "    .dataframe tbody tr th {\n",
              "        vertical-align: top;\n",
              "    }\n",
              "\n",
              "    .dataframe thead th {\n",
              "        text-align: right;\n",
              "    }\n",
              "</style>\n",
              "<table border=\"1\" class=\"dataframe\">\n",
              "  <thead>\n",
              "    <tr style=\"text-align: right;\">\n",
              "      <th></th>\n",
              "      <th>category</th>\n",
              "      <th>headline</th>\n",
              "      <th>authors</th>\n",
              "      <th>link</th>\n",
              "      <th>short_description</th>\n",
              "      <th>date</th>\n",
              "      <th>text</th>\n",
              "      <th>polarity</th>\n",
              "      <th>subjectivity</th>\n",
              "    </tr>\n",
              "  </thead>\n",
              "  <tbody>\n",
              "    <tr>\n",
              "      <th>0</th>\n",
              "      <td>CRIME</td>\n",
              "      <td>There Were 2 Mass Shootings In Texas Last Week...</td>\n",
              "      <td>Melissa Jeltsen</td>\n",
              "      <td>https://www.huffingtonpost.com/entry/texas-ama...</td>\n",
              "      <td>She left her husband. He killed their children...</td>\n",
              "      <td>2018-05-26</td>\n",
              "      <td>There Were 2 Mass Shootings In Texas Last Week...</td>\n",
              "      <td>-0.05</td>\n",
              "      <td>0.266667</td>\n",
              "    </tr>\n",
              "    <tr>\n",
              "      <th>1</th>\n",
              "      <td>ENTERTAINMENT</td>\n",
              "      <td>Will Smith Joins Diplo And Nicky Jam For The 2...</td>\n",
              "      <td>Andy McDonald</td>\n",
              "      <td>https://www.huffingtonpost.com/entry/will-smit...</td>\n",
              "      <td>Of course it has a song.</td>\n",
              "      <td>2018-05-26</td>\n",
              "      <td>Will Smith Joins Diplo And Nicky Jam For The 2...</td>\n",
              "      <td>0.00</td>\n",
              "      <td>0.000000</td>\n",
              "    </tr>\n",
              "  </tbody>\n",
              "</table>\n",
              "</div>"
            ],
            "text/plain": [
              "        category  ... subjectivity\n",
              "0          CRIME  ...     0.266667\n",
              "1  ENTERTAINMENT  ...     0.000000\n",
              "\n",
              "[2 rows x 9 columns]"
            ]
          },
          "metadata": {
            "tags": []
          },
          "execution_count": 23
        }
      ]
    },
    {
      "cell_type": "code",
      "metadata": {
        "id": "uutCGpyHi0JG",
        "colab": {
          "base_uri": "https://localhost:8080/",
          "height": 311
        },
        "outputId": "f2a1ea64-97c9-4166-b03d-c28582d2aa01"
      },
      "source": [
        "#len_text to get the ratio of words after preprocessing. In English, you only need on average 35% of the words to make sense. In Chinese, you need more.\n",
        "df_news['len'] = df_news['text'].apply(len_text)\n",
        "df_news.head(2)"
      ],
      "execution_count": null,
      "outputs": [
        {
          "output_type": "execute_result",
          "data": {
            "text/html": [
              "<div>\n",
              "<style scoped>\n",
              "    .dataframe tbody tr th:only-of-type {\n",
              "        vertical-align: middle;\n",
              "    }\n",
              "\n",
              "    .dataframe tbody tr th {\n",
              "        vertical-align: top;\n",
              "    }\n",
              "\n",
              "    .dataframe thead th {\n",
              "        text-align: right;\n",
              "    }\n",
              "</style>\n",
              "<table border=\"1\" class=\"dataframe\">\n",
              "  <thead>\n",
              "    <tr style=\"text-align: right;\">\n",
              "      <th></th>\n",
              "      <th>category</th>\n",
              "      <th>headline</th>\n",
              "      <th>authors</th>\n",
              "      <th>link</th>\n",
              "      <th>short_description</th>\n",
              "      <th>date</th>\n",
              "      <th>text</th>\n",
              "      <th>polarity</th>\n",
              "      <th>subjectivity</th>\n",
              "      <th>len</th>\n",
              "    </tr>\n",
              "  </thead>\n",
              "  <tbody>\n",
              "    <tr>\n",
              "      <th>0</th>\n",
              "      <td>CRIME</td>\n",
              "      <td>There Were 2 Mass Shootings In Texas Last Week...</td>\n",
              "      <td>Melissa Jeltsen</td>\n",
              "      <td>https://www.huffingtonpost.com/entry/texas-ama...</td>\n",
              "      <td>She left her husband. He killed their children...</td>\n",
              "      <td>2018-05-26</td>\n",
              "      <td>There Were 2 Mass Shootings In Texas Last Week...</td>\n",
              "      <td>-0.05</td>\n",
              "      <td>0.266667</td>\n",
              "      <td>0.444444</td>\n",
              "    </tr>\n",
              "    <tr>\n",
              "      <th>1</th>\n",
              "      <td>ENTERTAINMENT</td>\n",
              "      <td>Will Smith Joins Diplo And Nicky Jam For The 2...</td>\n",
              "      <td>Andy McDonald</td>\n",
              "      <td>https://www.huffingtonpost.com/entry/will-smit...</td>\n",
              "      <td>Of course it has a song.</td>\n",
              "      <td>2018-05-26</td>\n",
              "      <td>Will Smith Joins Diplo And Nicky Jam For The 2...</td>\n",
              "      <td>0.00</td>\n",
              "      <td>0.000000</td>\n",
              "      <td>0.500000</td>\n",
              "    </tr>\n",
              "  </tbody>\n",
              "</table>\n",
              "</div>"
            ],
            "text/plain": [
              "        category  ...       len\n",
              "0          CRIME  ...  0.444444\n",
              "1  ENTERTAINMENT  ...  0.500000\n",
              "\n",
              "[2 rows x 10 columns]"
            ]
          },
          "metadata": {
            "tags": []
          },
          "execution_count": 24
        }
      ]
    },
    {
      "cell_type": "markdown",
      "metadata": {
        "id": "oGKZJUm0LyWr"
      },
      "source": [
        "#### Make the Custom class for feature union Transformer of sklearn"
      ]
    },
    {
      "cell_type": "code",
      "metadata": {
        "id": "xATexe2Bli3y"
      },
      "source": [
        "from sklearn.base import BaseEstimator, TransformerMixin\n",
        "from sklearn.pipeline import FeatureUnion\n",
        "from sklearn.feature_extraction import DictVectorizer\n",
        "\n",
        "#Create a data dictionary\n",
        "class ItemSelector(BaseEstimator, TransformerMixin):\n",
        "    def __init__(self, key):\n",
        "        self.key = key\n",
        "#this class is going to take two functions:\n",
        "    def fit(self, x, y=None):\n",
        "        return self\n",
        "#the object of this class is the key. we'll create a data dictionary that calls these functions.\n",
        "    def transform(self, data_dict):\n",
        "        return data_dict[self.key]\n",
        "\n",
        "#We'll get these stats\n",
        "class TextStats(BaseEstimator, TransformerMixin):\n",
        "    \"\"\"Extract features from each document for DictVectorizer\"\"\"\n",
        "\n",
        "    def fit(self, x, y=None):\n",
        "        return self\n",
        "\n",
        "    def transform(self, data):\n",
        "        return [{'pos':  row['polarity'], 'sub': row['subjectivity'],  'len': row['len']} for _, row in data.iterrows()]\n"
      ],
      "execution_count": null,
      "outputs": []
    },
    {
      "cell_type": "markdown",
      "metadata": {
        "id": "rnRZabxvH_fM"
      },
      "source": [
        "### Make our Custom Pipeline"
      ]
    },
    {
      "cell_type": "code",
      "metadata": {
        "id": "UIPqod8rodN7"
      },
      "source": [
        "pipeline = Pipeline([\n",
        "    ('union', FeatureUnion(\n",
        "        transformer_list=[\n",
        "\n",
        "            # Pipeline for pulling features from the text. We'll pull ngrams.\n",
        "            ('text', Pipeline([\n",
        "                ('selector', ItemSelector(key='text')),\n",
        "                ('tfidf', TfidfVectorizer( min_df =3, max_df=0.2, max_features=None, \n",
        "                    strip_accents='unicode', analyzer='word',token_pattern=r'\\w{1,}',\n",
        "                    ngram_range=(1, 10), use_idf=1,smooth_idf=1,sublinear_tf=1,\n",
        "                    stop_words = None, preprocessor=clean_txt)),\n",
        "            ])),\n",
        "\n",
        "            # Pipeline for pulling metadata features. We'll create a matrix with these stats.\n",
        "            ('stats', Pipeline([\n",
        "                ('selector', ItemSelector(key=['polarity', 'subjectivity', 'len'])),\n",
        "                ('stats', TextStats()),  # returns a list of dicts\n",
        "                ('vect', DictVectorizer()),  # list of dicts -> feature matrix\n",
        "            ])),\n",
        "\n",
        "        ],\n",
        "\n",
        "        # weight components in FeatureUnion. Assign weights to the 2 groups of features you just pulled. You give more weight to sentiment.\n",
        "        transformer_weights={\n",
        "            'text': 0.9,\n",
        "            'stats': 1.5,\n",
        "        },\n",
        "    ))\n",
        "])"
      ],
      "execution_count": null,
      "outputs": []
    },
    {
      "cell_type": "markdown",
      "metadata": {
        "id": "-qCVUm-od66a"
      },
      "source": [
        "##### Build the pipeline"
      ]
    },
    {
      "cell_type": "code",
      "metadata": {
        "id": "VXNFcL5Ap3vl"
      },
      "source": [
        "from sklearn.preprocessing import LabelEncoder\n",
        "from sklearn.model_selection import train_test_split\n",
        "#to control results, use a seed\n",
        "seed = 40\n",
        "X = df_news[['text', 'polarity', 'subjectivity','len']]\n",
        "y =df_news['category']\n",
        "#one-hot encode category labels\n",
        "encoder = LabelEncoder()\n",
        "y = encoder.fit_transform(y)\n",
        "x_train, x_test, y_train, y_test = train_test_split(X, y, test_size=0.2, random_state=seed, stratify=y)"
      ],
      "execution_count": null,
      "outputs": []
    },
    {
      "cell_type": "code",
      "metadata": {
        "id": "G_EV0zAzskF1",
        "colab": {
          "base_uri": "https://localhost:8080/",
          "height": 50
        },
        "outputId": "c32894ff-982a-4dc8-8e32-7fd939014e30"
      },
      "source": [
        "print(np.unique(y_train))"
      ],
      "execution_count": null,
      "outputs": [
        {
          "output_type": "stream",
          "text": [
            "[ 0  1  2  3  4  5  6  7  8  9 10 11 12 13 14 15 16 17 18 19 20 21 22 23\n",
            " 24 25 26 27 28 29 30 31 32 33 34 35 36 37 38 39]\n"
          ],
          "name": "stdout"
        }
      ]
    },
    {
      "cell_type": "code",
      "metadata": {
        "id": "ajlhRbVEqBy6",
        "colab": {
          "base_uri": "https://localhost:8080/",
          "height": 672
        },
        "outputId": "dbe8d8b8-9c25-4b96-87b8-768314b3c480"
      },
      "source": [
        "#Grouped different features\n",
        "pipeline.fit(x_train)"
      ],
      "execution_count": null,
      "outputs": [
        {
          "output_type": "execute_result",
          "data": {
            "text/plain": [
              "Pipeline(memory=None,\n",
              "         steps=[('union',\n",
              "                 FeatureUnion(n_jobs=None,\n",
              "                              transformer_list=[('text',\n",
              "                                                 Pipeline(memory=None,\n",
              "                                                          steps=[('selector',\n",
              "                                                                  ItemSelector(key='text')),\n",
              "                                                                 ('tfidf',\n",
              "                                                                  TfidfVectorizer(analyzer='word',\n",
              "                                                                                  binary=False,\n",
              "                                                                                  decode_error='strict',\n",
              "                                                                                  dtype=<class 'numpy.float64'>,\n",
              "                                                                                  encoding='utf-8',\n",
              "                                                                                  input='content',\n",
              "                                                                                  lowercase=True,\n",
              "                                                                                  max_df=0.2,\n",
              "                                                                                  max_features=None,\n",
              "                                                                                  min_df=3,\n",
              "                                                                                  ngram...\n",
              "                                                                                  use_idf=1,\n",
              "                                                                                  vocabulary=None))],\n",
              "                                                          verbose=False)),\n",
              "                                                ('stats',\n",
              "                                                 Pipeline(memory=None,\n",
              "                                                          steps=[('selector',\n",
              "                                                                  ItemSelector(key=['polarity',\n",
              "                                                                                    'subjectivity',\n",
              "                                                                                    'len'])),\n",
              "                                                                 ('stats',\n",
              "                                                                  TextStats()),\n",
              "                                                                 ('vect',\n",
              "                                                                  DictVectorizer(dtype=<class 'numpy.float64'>,\n",
              "                                                                                 separator='=',\n",
              "                                                                                 sort=True,\n",
              "                                                                                 sparse=True))],\n",
              "                                                          verbose=False))],\n",
              "                              transformer_weights={'stats': 1.5, 'text': 0.9},\n",
              "                              verbose=False))],\n",
              "         verbose=False)"
            ]
          },
          "metadata": {
            "tags": []
          },
          "execution_count": 29
        }
      ]
    },
    {
      "cell_type": "markdown",
      "metadata": {
        "id": "GqTZO6_6IJ2F"
      },
      "source": [
        "### Transform and train the ML models"
      ]
    },
    {
      "cell_type": "code",
      "metadata": {
        "id": "eR_aXBY1qZoC",
        "colab": {
          "base_uri": "https://localhost:8080/",
          "height": 67
        },
        "outputId": "c851cf97-a45c-410f-f7d4-c7c9c16567f9"
      },
      "source": [
        "#check performance stats\n",
        "%%time\n",
        "train_vec = pipeline.transform(x_train)\n",
        "test_vec = pipeline.transform(x_test)\n",
        "print(\"Checking that the number of features in train and test correspond: %s - %s\" % (train_vec.shape, test_vec.shape))"
      ],
      "execution_count": null,
      "outputs": [
        {
          "output_type": "stream",
          "text": [
            "Checking that the number of features in train and test correspond: (160682, 189409) - (40171, 189409)\n",
            "CPU times: user 1min 43s, sys: 46.7 ms, total: 1min 43s\n",
            "Wall time: 1min 43s\n"
          ],
          "name": "stdout"
        }
      ]
    },
    {
      "cell_type": "code",
      "metadata": {
        "id": "FMbmLAhbzq0m"
      },
      "source": [
        "#We use these distance algorithms\n",
        "clf_sv = LinearSVC(C=1, class_weight='balanced', multi_class='ovr', random_state=40, max_iter=10000) #Support Vector machines\n",
        "clf_sgd = SGDClassifier(max_iter=200,) # Stochastic Gradient Classifier"
      ],
      "execution_count": null,
      "outputs": []
    },
    {
      "cell_type": "code",
      "metadata": {
        "id": "yDm5ZabgquGM",
        "colab": {
          "base_uri": "https://localhost:8080/",
          "height": 118
        },
        "outputId": "28aaa996-6234-4003-ae10-effaf736a056"
      },
      "source": [
        "#check accuracy\n",
        "%%time\n",
        "from sklearn.model_selection import cross_val_score\n",
        "\n",
        "clfs = [clf_sv, clf_sgd]\n",
        "cv = 3\n",
        "for clf in clfs:\n",
        "    scores = cross_val_score(clf,train_vec, y_train, cv=cv, scoring=\"accuracy\" )\n",
        "    print (scores)\n",
        "    print ((\"Mean score: {0:.3f} (+/-{1:.3f})\").format(\n",
        "        np.mean(scores), np.std(scores)))"
      ],
      "execution_count": null,
      "outputs": [
        {
          "output_type": "stream",
          "text": [
            "[0.60202386 0.60398424 0.60207244]\n",
            "Mean score: 0.603 (+/-0.001)\n",
            "[0.57582943 0.56789455 0.57554145]\n",
            "Mean score: 0.573 (+/-0.004)\n",
            "CPU times: user 2min 10s, sys: 13.2 s, total: 2min 24s\n",
            "Wall time: 2min 8s\n"
          ],
          "name": "stdout"
        }
      ]
    },
    {
      "cell_type": "code",
      "metadata": {
        "id": "5xyiXEzr8_l8",
        "colab": {
          "base_uri": "https://localhost:8080/",
          "height": 840
        },
        "outputId": "3ab6d9dc-02e0-4afb-ed68-72aaf4cc5fcf"
      },
      "source": [
        "\n",
        "%%time\n",
        "from sklearn.metrics import classification_report\n",
        "clf_sv.fit(train_vec, y_train)\n",
        "y_pred = clf_sv.predict(test_vec)\n",
        "print(classification_report(y_test, y_pred))\n",
        "#list_result =[]\n",
        "#list_result.append((\"SVC\",accuracy_score(y_test, y_pred)))\n",
        "#clf_sgd.fit(train_vec, y_train )\n",
        "#y_pred = clf_sgd.predict(test_vec)\n",
        "#list_result.append((\"SGD\",accuracy_score(y_test, y_pred)))\n"
      ],
      "execution_count": null,
      "outputs": [
        {
          "output_type": "stream",
          "text": [
            "              precision    recall  f1-score   support\n",
            "\n",
            "           0       0.32      0.34      0.33       302\n",
            "           1       0.30      0.32      0.31       268\n",
            "           2       0.52      0.52      0.52       906\n",
            "           3       0.50      0.49      0.49      1187\n",
            "           4       0.41      0.56      0.48       229\n",
            "           5       0.53      0.48      0.50      1035\n",
            "           6       0.54      0.70      0.61       681\n",
            "           7       0.41      0.36      0.38       206\n",
            "           8       0.72      0.74      0.73       685\n",
            "           9       0.37      0.48      0.41       201\n",
            "          10       0.74      0.65      0.69      3212\n",
            "          11       0.41      0.39      0.40       265\n",
            "          12       0.25      0.29      0.27       280\n",
            "          13       0.64      0.70      0.67      1245\n",
            "          14       0.28      0.31      0.30       280\n",
            "          15       0.37      0.47      0.41       524\n",
            "          16       0.40      0.28      0.33      1339\n",
            "          17       0.69      0.77      0.73       839\n",
            "          18       0.34      0.35      0.34       692\n",
            "          19       0.45      0.44      0.45       226\n",
            "          20       0.48      0.57      0.52       563\n",
            "          21       0.43      0.49      0.46       341\n",
            "          22       0.55      0.59      0.57      1735\n",
            "          23       0.38      0.34      0.36       791\n",
            "          24       0.84      0.73      0.78      6548\n",
            "          25       0.76      0.74      0.75      1263\n",
            "          26       0.52      0.64      0.58       511\n",
            "          27       0.48      0.58      0.53       436\n",
            "          28       0.70      0.78      0.74       977\n",
            "          29       0.39      0.33      0.35       451\n",
            "          30       0.77      0.79      0.78      1930\n",
            "          31       0.28      0.28      0.28       419\n",
            "          32       0.44      0.56      0.49       416\n",
            "          33       0.74      0.78      0.76      1977\n",
            "          34       0.75      0.83      0.78       730\n",
            "          35       0.36      0.39      0.37       534\n",
            "          36       0.67      0.68      0.67      3565\n",
            "          37       0.36      0.39      0.37       698\n",
            "          38       0.35      0.32      0.33       435\n",
            "          39       0.56      0.61      0.59      1249\n",
            "\n",
            "    accuracy                           0.61     40171\n",
            "   macro avg       0.50      0.53      0.51     40171\n",
            "weighted avg       0.62      0.61      0.61     40171\n",
            "\n",
            "CPU times: user 1min 4s, sys: 17 ms, total: 1min 4s\n",
            "Wall time: 1min 4s\n"
          ],
          "name": "stdout"
        }
      ]
    },
    {
      "cell_type": "code",
      "metadata": {
        "id": "iCuu-UBWw-fD",
        "colab": {
          "base_uri": "https://localhost:8080/",
          "height": 134
        },
        "outputId": "a98ee506-f352-4f01-d02c-bb07c67b27f7"
      },
      "source": [
        "from sklearn.metrics import confusion_matrix\n",
        "confusion_matrix(y_test, y_pred)"
      ],
      "execution_count": null,
      "outputs": [
        {
          "output_type": "execute_result",
          "data": {
            "text/plain": [
              "array([[102,  16,   5, ...,   6,   1,   6],\n",
              "       [ 24,  85,   8, ...,  10,   1,   5],\n",
              "       [  6,   8, 467, ...,  12,   3,   3],\n",
              "       ...,\n",
              "       [  4,   7,   5, ..., 270,   5,   0],\n",
              "       [  1,   1,   2, ...,   5, 141, 129],\n",
              "       [  7,   4,   8, ...,  12, 115, 764]])"
            ]
          },
          "metadata": {
            "tags": []
          },
          "execution_count": 34
        }
      ]
    },
    {
      "cell_type": "markdown",
      "metadata": {
        "id": "44dqcX6IH0A6"
      },
      "source": [
        "### Deep Learning and Spacy Models"
      ]
    },
    {
      "cell_type": "code",
      "metadata": {
        "id": "X2UOUY86HyQU",
        "colab": {
          "base_uri": "https://localhost:8080/",
          "height": 423
        },
        "outputId": "96f1e224-9cec-4ae5-b935-d9896634838b"
      },
      "source": [
        "import spacy\n",
        "!python -m spacy download en_core_web_lg\n"
      ],
      "execution_count": null,
      "outputs": [
        {
          "output_type": "stream",
          "text": [
            "Requirement already satisfied: en_core_web_lg==2.2.5 from https://github.com/explosion/spacy-models/releases/download/en_core_web_lg-2.2.5/en_core_web_lg-2.2.5.tar.gz#egg=en_core_web_lg==2.2.5 in /usr/local/lib/python3.6/dist-packages (2.2.5)\n",
            "Requirement already satisfied: spacy>=2.2.2 in /usr/local/lib/python3.6/dist-packages (from en_core_web_lg==2.2.5) (2.2.4)\n",
            "Requirement already satisfied: blis<0.5.0,>=0.4.0 in /usr/local/lib/python3.6/dist-packages (from spacy>=2.2.2->en_core_web_lg==2.2.5) (0.4.1)\n",
            "Requirement already satisfied: preshed<3.1.0,>=3.0.2 in /usr/local/lib/python3.6/dist-packages (from spacy>=2.2.2->en_core_web_lg==2.2.5) (3.0.2)\n",
            "Requirement already satisfied: wasabi<1.1.0,>=0.4.0 in /usr/local/lib/python3.6/dist-packages (from spacy>=2.2.2->en_core_web_lg==2.2.5) (0.7.1)\n",
            "Requirement already satisfied: thinc==7.4.0 in /usr/local/lib/python3.6/dist-packages (from spacy>=2.2.2->en_core_web_lg==2.2.5) (7.4.0)\n",
            "Requirement already satisfied: murmurhash<1.1.0,>=0.28.0 in /usr/local/lib/python3.6/dist-packages (from spacy>=2.2.2->en_core_web_lg==2.2.5) (1.0.2)\n",
            "Requirement already satisfied: cymem<2.1.0,>=2.0.2 in /usr/local/lib/python3.6/dist-packages (from spacy>=2.2.2->en_core_web_lg==2.2.5) (2.0.3)\n",
            "Requirement already satisfied: catalogue<1.1.0,>=0.0.7 in /usr/local/lib/python3.6/dist-packages (from spacy>=2.2.2->en_core_web_lg==2.2.5) (1.0.0)\n",
            "Requirement already satisfied: requests<3.0.0,>=2.13.0 in /usr/local/lib/python3.6/dist-packages (from spacy>=2.2.2->en_core_web_lg==2.2.5) (2.23.0)\n",
            "Requirement already satisfied: numpy>=1.15.0 in /usr/local/lib/python3.6/dist-packages (from spacy>=2.2.2->en_core_web_lg==2.2.5) (1.18.5)\n",
            "Requirement already satisfied: srsly<1.1.0,>=1.0.2 in /usr/local/lib/python3.6/dist-packages (from spacy>=2.2.2->en_core_web_lg==2.2.5) (1.0.2)\n",
            "Requirement already satisfied: setuptools in /usr/local/lib/python3.6/dist-packages (from spacy>=2.2.2->en_core_web_lg==2.2.5) (49.1.0)\n",
            "Requirement already satisfied: tqdm<5.0.0,>=4.38.0 in /usr/local/lib/python3.6/dist-packages (from spacy>=2.2.2->en_core_web_lg==2.2.5) (4.41.1)\n",
            "Requirement already satisfied: plac<1.2.0,>=0.9.6 in /usr/local/lib/python3.6/dist-packages (from spacy>=2.2.2->en_core_web_lg==2.2.5) (1.1.3)\n",
            "Requirement already satisfied: importlib-metadata>=0.20; python_version < \"3.8\" in /usr/local/lib/python3.6/dist-packages (from catalogue<1.1.0,>=0.0.7->spacy>=2.2.2->en_core_web_lg==2.2.5) (1.7.0)\n",
            "Requirement already satisfied: certifi>=2017.4.17 in /usr/local/lib/python3.6/dist-packages (from requests<3.0.0,>=2.13.0->spacy>=2.2.2->en_core_web_lg==2.2.5) (2020.6.20)\n",
            "Requirement already satisfied: idna<3,>=2.5 in /usr/local/lib/python3.6/dist-packages (from requests<3.0.0,>=2.13.0->spacy>=2.2.2->en_core_web_lg==2.2.5) (2.10)\n",
            "Requirement already satisfied: chardet<4,>=3.0.2 in /usr/local/lib/python3.6/dist-packages (from requests<3.0.0,>=2.13.0->spacy>=2.2.2->en_core_web_lg==2.2.5) (3.0.4)\n",
            "Requirement already satisfied: urllib3!=1.25.0,!=1.25.1,<1.26,>=1.21.1 in /usr/local/lib/python3.6/dist-packages (from requests<3.0.0,>=2.13.0->spacy>=2.2.2->en_core_web_lg==2.2.5) (1.24.3)\n",
            "Requirement already satisfied: zipp>=0.5 in /usr/local/lib/python3.6/dist-packages (from importlib-metadata>=0.20; python_version < \"3.8\"->catalogue<1.1.0,>=0.0.7->spacy>=2.2.2->en_core_web_lg==2.2.5) (3.1.0)\n",
            "\u001b[38;5;2m✔ Download and installation successful\u001b[0m\n",
            "You can now load the model via spacy.load('en_core_web_lg')\n"
          ],
          "name": "stdout"
        }
      ]
    },
    {
      "cell_type": "code",
      "metadata": {
        "id": "hE0SawP1mmRn",
        "colab": {
          "base_uri": "https://localhost:8080/",
          "height": 320
        },
        "outputId": "8f5ec13a-91e7-40ff-9197-a650fd8511bc"
      },
      "source": [
        "import spacy\n",
        "nlp = spacy.load('en_core_web_lg')"
      ],
      "execution_count": null,
      "outputs": [
        {
          "output_type": "error",
          "ename": "OSError",
          "evalue": "ignored",
          "traceback": [
            "\u001b[0;31m---------------------------------------------------------------------------\u001b[0m",
            "\u001b[0;31mOSError\u001b[0m                                   Traceback (most recent call last)",
            "\u001b[0;32m<ipython-input-1-f9ea1b8cc5d1>\u001b[0m in \u001b[0;36m<module>\u001b[0;34m()\u001b[0m\n\u001b[1;32m      1\u001b[0m \u001b[0;32mimport\u001b[0m \u001b[0mspacy\u001b[0m\u001b[0;34m\u001b[0m\u001b[0;34m\u001b[0m\u001b[0m\n\u001b[0;32m----> 2\u001b[0;31m \u001b[0mnlp\u001b[0m \u001b[0;34m=\u001b[0m \u001b[0mspacy\u001b[0m\u001b[0;34m.\u001b[0m\u001b[0mload\u001b[0m\u001b[0;34m(\u001b[0m\u001b[0;34m'en_core_web_lg'\u001b[0m\u001b[0;34m)\u001b[0m\u001b[0;34m\u001b[0m\u001b[0;34m\u001b[0m\u001b[0m\n\u001b[0m",
            "\u001b[0;32m/usr/local/lib/python3.6/dist-packages/spacy/__init__.py\u001b[0m in \u001b[0;36mload\u001b[0;34m(name, **overrides)\u001b[0m\n\u001b[1;32m     28\u001b[0m     \u001b[0;32mif\u001b[0m \u001b[0mdepr_path\u001b[0m \u001b[0;32mnot\u001b[0m \u001b[0;32min\u001b[0m \u001b[0;34m(\u001b[0m\u001b[0;32mTrue\u001b[0m\u001b[0;34m,\u001b[0m \u001b[0;32mFalse\u001b[0m\u001b[0;34m,\u001b[0m \u001b[0;32mNone\u001b[0m\u001b[0;34m)\u001b[0m\u001b[0;34m:\u001b[0m\u001b[0;34m\u001b[0m\u001b[0;34m\u001b[0m\u001b[0m\n\u001b[1;32m     29\u001b[0m         \u001b[0mdeprecation_warning\u001b[0m\u001b[0;34m(\u001b[0m\u001b[0mWarnings\u001b[0m\u001b[0;34m.\u001b[0m\u001b[0mW001\u001b[0m\u001b[0;34m.\u001b[0m\u001b[0mformat\u001b[0m\u001b[0;34m(\u001b[0m\u001b[0mpath\u001b[0m\u001b[0;34m=\u001b[0m\u001b[0mdepr_path\u001b[0m\u001b[0;34m)\u001b[0m\u001b[0;34m)\u001b[0m\u001b[0;34m\u001b[0m\u001b[0;34m\u001b[0m\u001b[0m\n\u001b[0;32m---> 30\u001b[0;31m     \u001b[0;32mreturn\u001b[0m \u001b[0mutil\u001b[0m\u001b[0;34m.\u001b[0m\u001b[0mload_model\u001b[0m\u001b[0;34m(\u001b[0m\u001b[0mname\u001b[0m\u001b[0;34m,\u001b[0m \u001b[0;34m**\u001b[0m\u001b[0moverrides\u001b[0m\u001b[0;34m)\u001b[0m\u001b[0;34m\u001b[0m\u001b[0;34m\u001b[0m\u001b[0m\n\u001b[0m\u001b[1;32m     31\u001b[0m \u001b[0;34m\u001b[0m\u001b[0m\n\u001b[1;32m     32\u001b[0m \u001b[0;34m\u001b[0m\u001b[0m\n",
            "\u001b[0;32m/usr/local/lib/python3.6/dist-packages/spacy/util.py\u001b[0m in \u001b[0;36mload_model\u001b[0;34m(name, **overrides)\u001b[0m\n\u001b[1;32m    167\u001b[0m     \u001b[0;32melif\u001b[0m \u001b[0mhasattr\u001b[0m\u001b[0;34m(\u001b[0m\u001b[0mname\u001b[0m\u001b[0;34m,\u001b[0m \u001b[0;34m\"exists\"\u001b[0m\u001b[0;34m)\u001b[0m\u001b[0;34m:\u001b[0m  \u001b[0;31m# Path or Path-like to model data\u001b[0m\u001b[0;34m\u001b[0m\u001b[0;34m\u001b[0m\u001b[0m\n\u001b[1;32m    168\u001b[0m         \u001b[0;32mreturn\u001b[0m \u001b[0mload_model_from_path\u001b[0m\u001b[0;34m(\u001b[0m\u001b[0mname\u001b[0m\u001b[0;34m,\u001b[0m \u001b[0;34m**\u001b[0m\u001b[0moverrides\u001b[0m\u001b[0;34m)\u001b[0m\u001b[0;34m\u001b[0m\u001b[0;34m\u001b[0m\u001b[0m\n\u001b[0;32m--> 169\u001b[0;31m     \u001b[0;32mraise\u001b[0m \u001b[0mIOError\u001b[0m\u001b[0;34m(\u001b[0m\u001b[0mErrors\u001b[0m\u001b[0;34m.\u001b[0m\u001b[0mE050\u001b[0m\u001b[0;34m.\u001b[0m\u001b[0mformat\u001b[0m\u001b[0;34m(\u001b[0m\u001b[0mname\u001b[0m\u001b[0;34m=\u001b[0m\u001b[0mname\u001b[0m\u001b[0;34m)\u001b[0m\u001b[0;34m)\u001b[0m\u001b[0;34m\u001b[0m\u001b[0;34m\u001b[0m\u001b[0m\n\u001b[0m\u001b[1;32m    170\u001b[0m \u001b[0;34m\u001b[0m\u001b[0m\n\u001b[1;32m    171\u001b[0m \u001b[0;34m\u001b[0m\u001b[0m\n",
            "\u001b[0;31mOSError\u001b[0m: [E050] Can't find model 'en_core_web_lg'. It doesn't seem to be a shortcut link, a Python package or a valid path to a data directory."
          ]
        }
      ]
    },
    {
      "cell_type": "code",
      "metadata": {
        "id": "RAXDKTDFQtI6"
      },
      "source": [
        "from keras.preprocessing.text import Tokenizer\n",
        "from keras.models import Sequential\n",
        "from keras.layers import Activation, Dense, Dropout, LSTM, Embedding\n",
        "from sklearn.preprocessing import LabelBinarizer\n",
        "from keras.preprocessing.text import Tokenizer, text_to_word_sequence\n",
        "from keras.preprocessing.sequence import pad_sequences\n",
        "from keras.utils import np_utils\n",
        "from keras.layers import Dense, Input, LSTM, Bidirectional, Activation, Conv1D, GRU, TimeDistributed\n",
        "from keras.layers import Dropout, Embedding, GlobalMaxPooling1D, MaxPooling1D, Add, Flatten, SpatialDropout1D\n",
        "from keras.layers import GlobalAveragePooling1D, BatchNormalization, concatenate\n",
        "from keras.layers import Reshape, merge, Concatenate, Lambda, Average\n",
        "from keras import backend as K\n",
        "from keras.engine.topology import Layer\n",
        "from keras import initializers, regularizers, constraints"
      ],
      "execution_count": null,
      "outputs": []
    },
    {
      "cell_type": "code",
      "metadata": {
        "id": "xlSomTwdQu-v"
      },
      "source": [
        "from sklearn.model_selection import train_test_split\n",
        "import time\n",
        "X = df_news['text']\n",
        "y =df_news['category']\n",
        "encoder = LabelEncoder()\n",
        "y = encoder.fit_transform(y)\n",
        "Y = np_utils.to_categorical(y)\n",
        "##Create the tf-idf vector\n",
        "vectorizer = TfidfVectorizer( min_df =3, max_df=0.2, max_features=None, \n",
        "            strip_accents='unicode', analyzer='word',token_pattern=r'\\w{1,}',\n",
        "            use_idf=1,smooth_idf=1,sublinear_tf=1,\n",
        "            stop_words = None, preprocessor=clean_txt)\n",
        "\n",
        "\n",
        "\n"
      ],
      "execution_count": null,
      "outputs": []
    },
    {
      "cell_type": "code",
      "metadata": {
        "id": "wvnlG0jpbJLZ"
      },
      "source": [
        "seed = 40\n",
        "x_train, x_test, y_train, y_test = train_test_split(X, Y, test_size=0.2, random_state=seed, stratify =y)\n",
        "vectorizer.fit(x_train)"
      ],
      "execution_count": null,
      "outputs": []
    },
    {
      "cell_type": "code",
      "metadata": {
        "id": "LHDqKHCSb0-6"
      },
      "source": [
        "\n",
        "word2idx = {word: idx for idx, word in enumerate(vectorizer.get_feature_names())}\n",
        "tokenize = vectorizer.build_tokenizer()\n",
        "preprocess = vectorizer.build_preprocessor()\n",
        " \n",
        "def to_sequence(tokenizer, preprocessor, index, text):\n",
        "    words = tokenizer(preprocessor(text))\n",
        "    indexes = [index[word] for word in words if word in index]\n",
        "    return indexes\n",
        "\n",
        "X_train_sequences = [to_sequence(tokenize, preprocess, word2idx, x) for x in x_train]\n",
        "print(X_train_sequences[0])\n",
        " "
      ],
      "execution_count": null,
      "outputs": []
    },
    {
      "cell_type": "code",
      "metadata": {
        "id": "EoN1a2lrcr5l"
      },
      "source": [
        "# Compute the max lenght of a text\n",
        "\n",
        "MAX_SEQ_LENGHT=60\n",
        "\n",
        "N_FEATURES = len(vectorizer.get_feature_names())\n",
        "X_train_sequences = pad_sequences(X_train_sequences, maxlen=MAX_SEQ_LENGHT, value=N_FEATURES)\n",
        "print(X_train_sequences[0])\n",
        " "
      ],
      "execution_count": null,
      "outputs": []
    },
    {
      "cell_type": "code",
      "metadata": {
        "id": "0Xcq3N53iqGx"
      },
      "source": [
        "X_test_sequences = [to_sequence(tokenize, preprocess, word2idx, x) for x in x_test]\n",
        "X_test_sequences = pad_sequences(X_test_sequences, maxlen=MAX_SEQ_LENGHT, value=N_FEATURES)\n",
        " "
      ],
      "execution_count": null,
      "outputs": []
    },
    {
      "cell_type": "markdown",
      "metadata": {
        "id": "8bHxFJLuIcdj"
      },
      "source": [
        "#### Making the spacy embeding"
      ]
    },
    {
      "cell_type": "code",
      "metadata": {
        "id": "uFAas-cMf5Xg"
      },
      "source": [
        "EMBEDDINGS_LEN = 300\n",
        "\n",
        "embeddings_index = np.zeros((len(vectorizer.get_feature_names()) + 1, EMBEDDINGS_LEN))\n",
        "for word, idx in word2idx.items():\n",
        "    try:\n",
        "        embedding = nlp.vocab[word].vector\n",
        "        embeddings_index[idx] = embedding\n",
        "    except:\n",
        "        pass\n",
        "      \n",
        "print(\"EMBEDDINGS_LEN=\", EMBEDDINGS_LEN)   \n",
        "      "
      ],
      "execution_count": null,
      "outputs": []
    },
    {
      "cell_type": "markdown",
      "metadata": {
        "id": "ZNoSyhzMIqTc"
      },
      "source": [
        "#### Simple LSTM Model"
      ]
    },
    {
      "cell_type": "code",
      "metadata": {
        "id": "vH-uD5WmgEgg"
      },
      "source": [
        " \n",
        "model = Sequential()\n",
        "model.add(Embedding(len(vectorizer.get_feature_names()) + 1,\n",
        "                    EMBEDDINGS_LEN,  # Embedding size\n",
        "                    weights=[embeddings_index],\n",
        "                    input_length=MAX_SEQ_LENGHT,\n",
        "                    trainable=False))\n",
        "model.add(LSTM(300, dropout=0.2))\n",
        "model.add(Dense(len(set(y)), activation='softmax'))\n",
        " \n",
        "model.compile(loss='categorical_crossentropy', optimizer='adam', metrics=['accuracy'])\n",
        "print(model.summary())"
      ],
      "execution_count": null,
      "outputs": []
    },
    {
      "cell_type": "code",
      "metadata": {
        "id": "hIib5rDCjSUD"
      },
      "source": [
        "model.fit(X_train_sequences, y_train, \n",
        "          epochs=5, batch_size=128, verbose=1, \n",
        "          validation_split=0.1)\n",
        " \n",
        "scores = model.evaluate(X_test_sequences, y_test, verbose=1)\n",
        "print(\"Accuracy:\", scores[1])  #\n",
        "list_result.append((\"LSTM Simple\", scores[1]))"
      ],
      "execution_count": null,
      "outputs": []
    },
    {
      "cell_type": "code",
      "metadata": {
        "id": "v8OTj-z9n3PJ"
      },
      "source": [
        "len(x_train.keys())"
      ],
      "execution_count": null,
      "outputs": []
    },
    {
      "cell_type": "markdown",
      "metadata": {
        "id": "fxjr-fKFIxsz"
      },
      "source": [
        "### Model LSTM and concatenate new columns"
      ]
    },
    {
      "cell_type": "code",
      "metadata": {
        "id": "gY8k2pikm5cQ"
      },
      "source": [
        "from keras.models import Model\n",
        "from keras.layers import Dense ,LSTM,concatenate,Input,Flatten,BatchNormalization, GRU\n",
        "\n",
        "text_data = Input(shape=(MAX_SEQ_LENGHT,), name='text')\n",
        "meta_data = Input(shape=(3,), name = 'meta')\n",
        "x=(Embedding(len(vectorizer.get_feature_names()) + 1,\n",
        "                    EMBEDDINGS_LEN,  # Embedding size\n",
        "                    weights=[embeddings_index],\n",
        "                    input_length=MAX_SEQ_LENGHT,\n",
        "                    trainable=False))(text_data)\n",
        "x2 = ((LSTM(300, dropout=0.2, recurrent_dropout=0.2)))(x)\n",
        "x4 = concatenate([x2, meta_data])\n",
        "x5 = Dense(150, activation='relu')(x4)\n",
        "x6 = Dropout(0.25)(x5)\n",
        "x7 = BatchNormalization()(x6)\n",
        "out=(Dense(len(set(y)), activation=\"softmax\"))(x7)\n",
        "model = Model(inputs=[text_data, meta_data ], outputs=out)\n",
        "model.compile(loss='categorical_crossentropy', optimizer='adam', metrics=['accuracy'])\n",
        "print(model.summary())"
      ],
      "execution_count": null,
      "outputs": []
    },
    {
      "cell_type": "code",
      "metadata": {
        "id": "dk0LBCEkpcyW"
      },
      "source": [
        "df_cat_train = df_news.iloc[x_train.index][['polarity', 'subjectivity', 'len']]\n",
        "df_cat_test = df_news.iloc[x_test.index][['polarity', 'subjectivity', 'len']]"
      ],
      "execution_count": null,
      "outputs": []
    },
    {
      "cell_type": "code",
      "metadata": {
        "id": "suzvxzbupJBl"
      },
      "source": [
        "model.fit([X_train_sequences, df_cat_train], y_train, \n",
        "          epochs=12, batch_size=128, verbose=1, \n",
        "          validation_split=0.1)\n",
        " \n",
        "scores = model.evaluate([X_test_sequences, df_cat_test],y_test, verbose=1)\n",
        "print(\"Accuracy:\", scores[1])  \n",
        "list_result.append((\"LSTM with Multi-Input\", scores[1]))"
      ],
      "execution_count": null,
      "outputs": []
    },
    {
      "cell_type": "markdown",
      "metadata": {
        "id": "iRwIexfqJA5c"
      },
      "source": [
        "### Model with 2 GRU (Bi-GRU)"
      ]
    },
    {
      "cell_type": "code",
      "metadata": {
        "id": "XlGErlmJwVNT"
      },
      "source": [
        "\n",
        "text_data = Input(shape=(MAX_SEQ_LENGHT,), name='text')\n",
        "meta_data = Input(shape=(3,), name = 'meta')\n",
        "x=(Embedding(len(vectorizer.get_feature_names()) + 1,\n",
        "                    EMBEDDINGS_LEN,  # Embedding size\n",
        "                    weights=[embeddings_index],\n",
        "                    input_length=MAX_SEQ_LENGHT,\n",
        "                    trainable=False))(text_data)\n",
        "x2 = ((GRU(128, dropout=0.2, recurrent_dropout=0.2,  return_sequences=True)))(x)\n",
        "x3 = ((GRU(128, dropout=0.2, recurrent_dropout=0.2)))(x2)\n",
        "x4 = concatenate([x3, meta_data])\n",
        "x5 = Dense(150, activation='relu')(x4)\n",
        "x6 = Dropout(0.25)(x5)\n",
        "x7 = BatchNormalization()(x6)\n",
        "out=(Dense(len(set(y)), activation=\"softmax\"))(x7)\n",
        "model = Model(inputs=[text_data, meta_data], outputs=out)\n",
        "model.compile(loss='categorical_crossentropy', optimizer='adam', metrics=['accuracy'])\n",
        "print(model.summary())"
      ],
      "execution_count": null,
      "outputs": []
    },
    {
      "cell_type": "code",
      "metadata": {
        "id": "EwbRVFPnw4pv"
      },
      "source": [
        "model.fit([X_train_sequences, df_cat_train], y_train, \n",
        "          epochs=20, batch_size=128, verbose=1, \n",
        "          validation_split=0.1)\n",
        " \n",
        "scores = model.evaluate([X_test_sequences, df_cat_test],y_test, verbose=1)\n",
        "print(\"Accuracy:\", scores[1])  # \n",
        "list_result.append((\"Bi-GRU\", scores[1]))"
      ],
      "execution_count": null,
      "outputs": []
    },
    {
      "cell_type": "markdown",
      "metadata": {
        "id": "zbBWIYw4fKot"
      },
      "source": [
        "## LSTM with Attention"
      ]
    },
    {
      "cell_type": "code",
      "metadata": {
        "id": "GjAlQI48XnUo"
      },
      "source": [
        "             \n",
        "             \n",
        "             \n",
        "class Attention(Layer):\n",
        "    def __init__(self, step_dim,\n",
        "                 W_regularizer=None, b_regularizer=None,\n",
        "                 W_constraint=None, b_constraint=None,\n",
        "                 bias=True, **kwargs):\n",
        "        self.supports_masking = True\n",
        "        self.init = initializers.get('glorot_uniform')\n",
        "        self.W_regularizer = regularizers.get(W_regularizer)\n",
        "        self.b_regularizer = regularizers.get(b_regularizer)\n",
        "        self.W_constraint = constraints.get(W_constraint)\n",
        "        self.b_constraint = constraints.get(b_constraint)\n",
        "        self.bias = bias\n",
        "        self.step_dim = step_dim\n",
        "        self.features_dim = 0\n",
        "        super(Attention, self).__init__(**kwargs)\n",
        "\n",
        "    def build(self, input_shape):\n",
        "        assert len(input_shape) == 3\n",
        "        self.W = self.add_weight((input_shape[-1],),\n",
        "                                 initializer=self.init,\n",
        "                                 name='{}_W'.format(self.name),\n",
        "                                 regularizer=self.W_regularizer,\n",
        "                                 constraint=self.W_constraint)\n",
        "        self.features_dim = input_shape[-1]\n",
        "        if self.bias:\n",
        "            self.b = self.add_weight((input_shape[1],),\n",
        "                                     initializer='zero',\n",
        "                                     name='{}_b'.format(self.name),\n",
        "                                     regularizer=self.b_regularizer,\n",
        "                                     constraint=self.b_constraint)\n",
        "        else:\n",
        "            self.b = None\n",
        "        self.built = True\n",
        "\n",
        "    def compute_mask(self, input, input_mask=None):\n",
        "        return None\n",
        "\n",
        "    def call(self, x, mask=None):\n",
        "        features_dim = self.features_dim\n",
        "        step_dim = self.step_dim\n",
        "        eij = K.reshape(K.dot(K.reshape(x, (-1, features_dim)), K.reshape(self.W, (features_dim, 1))), (-1, step_dim))\n",
        "        if self.bias:\n",
        "            eij += self.b\n",
        "        eij = K.tanh(eij)\n",
        "        a = K.exp(eij)\n",
        "        if mask is not None:\n",
        "            a *= K.cast(mask, K.floatx())\n",
        "        a /= K.cast(K.sum(a, axis=1, keepdims=True) + K.epsilon(), K.floatx())\n",
        "        a = K.expand_dims(a)\n",
        "        weighted_input = x * a\n",
        "        return K.sum(weighted_input, axis=1)\n",
        "\n",
        "    def compute_output_shape(self, input_shape):\n",
        "        return input_shape[0],  self.features_dim\n",
        "    \n",
        "\n",
        "text_data = Input(shape=(MAX_SEQ_LENGHT,), name='text')\n",
        "meta_data = Input(shape=(3,), name = 'meta')\n",
        "x = Embedding(len(vectorizer.get_feature_names()) + 1,\n",
        "                    EMBEDDINGS_LEN,  # Embedding size\n",
        "                    weights=[embeddings_index],\n",
        "                    input_length=MAX_SEQ_LENGHT,\n",
        "                    trainable=False)(text_data)\n",
        "x1 = (LSTM(300, dropout=0.25, recurrent_dropout=0.25, return_sequences=True))(x)\n",
        "x2 = Dropout(0.25)(x1)\n",
        "x3 = Attention(MAX_SEQ_LENGHT)(x2)\n",
        "x4 = Dense(256, activation='relu')(x3)\n",
        "x5 = Dropout(0.25)(x4)\n",
        "x6 = BatchNormalization()(x5)\n",
        "x7 = concatenate([x6, meta_data])\n",
        "x8 = Dense(150, activation='relu')(x7)\n",
        "x9 = Dropout(0.25)(x8)\n",
        "x10 = BatchNormalization()(x9)\n",
        "outp = Dense(len(set(y)), activation='softmax')(x10)\n",
        "\n",
        "AttentionLSTM = Model(inputs=[text_data, meta_data ], outputs=outp)\n",
        "AttentionLSTM.compile(loss='categorical_crossentropy', optimizer='adam', metrics=['acc'])\n",
        "\n",
        "AttentionLSTM.summary()"
      ],
      "execution_count": null,
      "outputs": []
    },
    {
      "cell_type": "code",
      "metadata": {
        "id": "RWV25Y1ahX2L"
      },
      "source": [
        "AttentionLSTM.fit([X_train_sequences, df_cat_train], y_train, \n",
        "          epochs=13, batch_size=128, verbose=1, \n",
        "          validation_split=0.1)\n",
        " \n",
        "scores = AttentionLSTM.evaluate([X_test_sequences, df_cat_test],y_test, verbose=1)\n",
        "print(\"Accuracy:\", scores[1])  # \n",
        "list_result.append((\"LSTM with Attention\", scores[1]))"
      ],
      "execution_count": null,
      "outputs": []
    },
    {
      "cell_type": "markdown",
      "metadata": {
        "id": "Uc1YCgRmkX_X"
      },
      "source": [
        "##  Models Comparison"
      ]
    },
    {
      "cell_type": "code",
      "metadata": {
        "id": "V52za-gPFuKx"
      },
      "source": [
        "pd.DataFrame(list_result, columns=['model', 'accuracy'])"
      ],
      "execution_count": null,
      "outputs": []
    },
    {
      "cell_type": "markdown",
      "metadata": {
        "id": "aO-tJaPhfJKs"
      },
      "source": [
        "The Confusion Matrix for the best models"
      ]
    },
    {
      "cell_type": "markdown",
      "metadata": {
        "id": "ryuRlHjCjyvd"
      },
      "source": [
        "## Do news articles from different categories have different writing styles?"
      ]
    },
    {
      "cell_type": "markdown",
      "metadata": {
        "id": "XrTC8warnGJk"
      },
      "source": [
        "#### Let's see the top word by category"
      ]
    },
    {
      "cell_type": "code",
      "metadata": {
        "id": "FBZHXHCuSK8l"
      },
      "source": [
        "%%time\n",
        "vectorizer = TfidfVectorizer( min_df =3, max_df=0.2, max_features=None, \n",
        "                    strip_accents='unicode', analyzer='word',token_pattern=r'\\w{1,}',\n",
        "                    ngram_range=(1, 1), use_idf=1,smooth_idf=1,sublinear_tf=1,\n",
        "                    stop_words = None, preprocessor=clean_txt)\n",
        "vectorizer.fit(df_news.category)"
      ],
      "execution_count": null,
      "outputs": []
    },
    {
      "cell_type": "code",
      "metadata": {
        "id": "We7Rt47T9WvP"
      },
      "source": [
        "\n",
        "def create_tf_matrix(category):\n",
        "    return vectorizer.transform(df_news[df_news.category == category].text)\n",
        "\n",
        "def create_term_freq(matrix, cat):\n",
        "  category_words = matrix.sum(axis=0)\n",
        "  category_words_freq = [(word, category_words[0, idx]) for word, idx in vectorizer.vocabulary_.items()]\n",
        "  return pd.DataFrame(list(sorted(category_words_freq, key = lambda x: x[1], reverse=True)),columns=['Terms', cat])\n",
        "\n",
        "for cat in df_news.category.unique():\n",
        "  print(\"Top 10 terms for: \", cat)\n",
        "  df_right = create_term_freq(create_tf_matrix(cat), cat).head(10)\n",
        "  print(df_right)\n",
        "  print(\"###############\")\n",
        "  if cat != 'CRIME':\n",
        "    df_top5_words = df_top5_words.merge(df_right, how='outer')\n",
        "  else:\n",
        "    df_top5_words = df_right.copy()\n",
        "  print(df_top5_words.shape )\n",
        "\n",
        "  "
      ],
      "execution_count": null,
      "outputs": []
    },
    {
      "cell_type": "code",
      "metadata": {
        "id": "gNz9dZANuUAg"
      },
      "source": [
        "df_top5_words.fillna(0, inplace=True )\n",
        "df_top5_words.set_index('Terms', inplace=True)\n",
        "df_top5_words.shape"
      ],
      "execution_count": null,
      "outputs": []
    },
    {
      "cell_type": "code",
      "metadata": {
        "id": "eAZjka7A49kN"
      },
      "source": [
        "!pip install textacy"
      ],
      "execution_count": null,
      "outputs": []
    },
    {
      "cell_type": "code",
      "metadata": {
        "id": "nVodr_QUkJEo"
      },
      "source": [
        "import numpy as np\n",
        "from textacy.viz.termite import draw_termite_plot\n"
      ],
      "execution_count": null,
      "outputs": []
    },
    {
      "cell_type": "code",
      "metadata": {
        "id": "o8Fs6ykVDEdh"
      },
      "source": [
        "df = df_top5_words.copy()\n",
        "df_norm = (df) / (df.max() - df.min())"
      ],
      "execution_count": null,
      "outputs": []
    },
    {
      "cell_type": "markdown",
      "metadata": {
        "id": "1KSMBlKQHWRg"
      },
      "source": [
        "#### According the TFIDF we get the following top-10  term by category"
      ]
    },
    {
      "cell_type": "code",
      "metadata": {
        "id": "2siXTQCC5MAp"
      },
      "source": [
        "draw_termite_plot(np.array(df_norm.values),df_top5_words.columns,df_top5_words.index, highlight_cols=[0, 4, 12,20,30,36] )"
      ],
      "execution_count": null,
      "outputs": []
    },
    {
      "cell_type": "markdown",
      "metadata": {
        "id": "ENIwi39CElyR"
      },
      "source": [
        "we see words for example: \n",
        "* for category _CRIME_ we have words like: _home,  crime,    black,  drink,  live, parent,   money_.\n",
        "* for category _TRAVEL_ we have:  _world,  food, culture,     drink_ , i.e Wor we can use for travel description\n",
        "\n"
      ]
    },
    {
      "cell_type": "markdown",
      "metadata": {
        "id": "xFnExdfTaor_"
      },
      "source": [
        "Let´s get some metada data by categories"
      ]
    },
    {
      "cell_type": "code",
      "metadata": {
        "id": "AMrjGIc-auwR"
      },
      "source": [
        "\n",
        "import textacy"
      ],
      "execution_count": null,
      "outputs": []
    },
    {
      "cell_type": "code",
      "metadata": {
        "id": "gsK1BZBokI2Y"
      },
      "source": [
        "def get_basic_stat(text):\n",
        "  doc = textacy.make_spacy_doc(text, lang=nlp)\n",
        "  ts = textacy.TextStats(doc)\n",
        "  return  ts.basic_counts"
      ],
      "execution_count": null,
      "outputs": []
    },
    {
      "cell_type": "markdown",
      "metadata": {
        "id": "vNM7TY9lY4m1"
      },
      "source": [
        "Group by Categories in order to analize the Data"
      ]
    },
    {
      "cell_type": "code",
      "metadata": {
        "id": "mMbz9h8BHxaB"
      },
      "source": [
        "%%time\n",
        "df_news['Stats'] = df_news['text'].apply(get_basic_stat)"
      ],
      "execution_count": null,
      "outputs": []
    },
    {
      "cell_type": "code",
      "metadata": {
        "id": "CfIpW3jhlXuN"
      },
      "source": [
        "df_news.head()"
      ],
      "execution_count": null,
      "outputs": []
    },
    {
      "cell_type": "code",
      "metadata": {
        "id": "xlnSiJpfmnwF"
      },
      "source": [
        "df_stats = pd.DataFrame(df_news['Stats'].values.tolist(), index=df_news.index)\n",
        "df_stats.head()"
      ],
      "execution_count": null,
      "outputs": []
    },
    {
      "cell_type": "markdown",
      "metadata": {
        "id": "yNXzyFYXxRwR"
      },
      "source": [
        "### The sentiment by Category"
      ]
    },
    {
      "cell_type": "code",
      "metadata": {
        "id": "AvTOZ0mhxuor"
      },
      "source": [
        "from matplotlib import pyplot as plt\n",
        "import seaborn as sns\n",
        "sns.set(style=\"whitegrid\")"
      ],
      "execution_count": null,
      "outputs": []
    },
    {
      "cell_type": "code",
      "metadata": {
        "id": "_5Er4ESxxYIA"
      },
      "source": [
        "plt.figure(figsize=(20,11))\n",
        "ax = sns.boxplot(x=\"category\", y=\"polarity\", data=df_news)\n",
        "# ax = sns.swarmplot(x=\"category\", y=\"polarity\", data=df_news, color=\".25\")\n",
        "ax.set_title('Sentiment by Category in the Text')\n",
        "l = ax.set_xticklabels(ax.get_xticklabels(), rotation=60)"
      ],
      "execution_count": null,
      "outputs": []
    },
    {
      "cell_type": "markdown",
      "metadata": {
        "id": "_mjCvNwS0F4t"
      },
      "source": [
        "The highest sentiment polarity score was achieved by all the categoris **TASTE  and FOOOD & DRING**, and the lowest sentiment polarity score was collected by categories **CRIME and WORLD NEWS**.  This is explains because categories as  _CRIME_ as some more words associated with negative feelings, whereas categories like **FOODS & DRINK** has more word associated to pleasure."
      ]
    },
    {
      "cell_type": "markdown",
      "metadata": {
        "id": "is5wWVKVxZYn"
      },
      "source": [
        "### The Objectivity by Category"
      ]
    },
    {
      "cell_type": "code",
      "metadata": {
        "id": "WS9JTIm-yMRr"
      },
      "source": [
        "plt.figure(figsize=(20,10))\n",
        "ax = sns.boxplot(x=\"category\", y=\"subjectivity\", data=df_news)\n",
        "# ax = sns.swarmplot(x=\"category\", y=\"subjectivity\", data=df_news, color=\".25\")\n",
        "ax.set_title('Objectivity by Category in the Text')\n",
        "l= ax.set_xticklabels(ax.get_xticklabels(), rotation=90)"
      ],
      "execution_count": null,
      "outputs": []
    },
    {
      "cell_type": "markdown",
      "metadata": {
        "id": "54aM1x-v0aVA"
      },
      "source": [
        "The highest subjectivity score by mean was achieved by categories **PARECTS, HOME & LIVING and TASTE** refers that mostly it is a public opinion and not a factual information., and the lowest subjectivity score was collected by **CRIME and WORLDPOST** for example.  however these text are all should considered to be objective because are all news."
      ]
    },
    {
      "cell_type": "markdown",
      "metadata": {
        "id": "6ORCTJSdlWyB"
      },
      "source": [
        "### Articles Published by year"
      ]
    },
    {
      "cell_type": "code",
      "metadata": {
        "id": "nKg1REngkVVZ"
      },
      "source": [
        "df_news['year']= df_news['date'].dt.year"
      ],
      "execution_count": null,
      "outputs": []
    },
    {
      "cell_type": "code",
      "metadata": {
        "id": "Hv3mwZZwlzFh"
      },
      "source": [
        "ax.set_title('Number of news by Year')\n",
        "ax = sns.countplot(x=\"year\", data=df_news, palette=\"Blues_d\")"
      ],
      "execution_count": null,
      "outputs": []
    },
    {
      "cell_type": "markdown",
      "metadata": {
        "id": "PYs4sDTWQNkh"
      },
      "source": [
        "The news published by year is kind of uniform"
      ]
    },
    {
      "cell_type": "markdown",
      "metadata": {
        "id": "eyinVdKBnV-Y"
      },
      "source": [
        "### News by category an year"
      ]
    },
    {
      "cell_type": "code",
      "metadata": {
        "id": "yEtH155mnUo5"
      },
      "source": [
        "df_news['qty']= 1\n",
        "df_cat_year = df_news.groupby(['category', 'year']).agg({'polarity': 'mean', \n",
        "                                     'subjectivity': 'mean', \n",
        "                                    'len': 'mean',\n",
        "                                     'qty':'count'})\n",
        "df_cat_year.head(6)"
      ],
      "execution_count": null,
      "outputs": []
    },
    {
      "cell_type": "code",
      "metadata": {
        "id": "p6S-zsAsp4VA"
      },
      "source": [
        "df_cat_year.reset_index(inplace=True)"
      ],
      "execution_count": null,
      "outputs": []
    },
    {
      "cell_type": "code",
      "metadata": {
        "id": "-7gPnVADr_8H"
      },
      "source": [
        "\n",
        "fig1 = plt.figure(figsize=(15,25))\n",
        "fig1.subplots_adjust(hspace = 1)\n",
        "chrt = 0\n",
        "for i, group in df_cat_year.groupby('category'):\n",
        "    chrt += 1 \n",
        "    ax = fig1.add_subplot(10,4, chrt)\n",
        "    x = group['year']\n",
        "    h = group['qty']\n",
        "    ax.bar(x,h, color =\"#86A3E2\")\n",
        "    ax.set_title(str(i))"
      ],
      "execution_count": null,
      "outputs": []
    },
    {
      "cell_type": "markdown",
      "metadata": {
        "id": "t4M-wr6CQ3JC"
      },
      "source": [
        "**The polarity and subjectivity by category and year**"
      ]
    },
    {
      "cell_type": "code",
      "metadata": {
        "id": "pESIu4WgQ1-E"
      },
      "source": [
        "fig1 = plt.figure(figsize=(15,25))\n",
        "fig1.subplots_adjust(hspace = 1)\n",
        "chrt = 0\n",
        "for i, group in df_cat_year.groupby('category'):\n",
        "    chrt += 1\n",
        "    barWidth = 0.25\n",
        "    ax = fig1.add_subplot(10,4, chrt)\n",
        "    x = group.year\n",
        "    bars1 = group.polarity\n",
        "    bars2 = group.subjectivity\n",
        "    r1 = np.arange(len(x))\n",
        "    r2 = [x + barWidth for x in r1]\n",
        "\n",
        "    ax.bar(r1, bars1, color='#F08080', width=barWidth, edgecolor='white', label='Polarity')\n",
        "    ax.bar(r2, bars2, color='#B0C4DE', width=barWidth, edgecolor='white', label='Subjectivity')\n",
        "    ax.set_title(str(i))\n",
        "    ax.set_xticks(range(len(bars1)))\n",
        "    ax.set_xticklabels([str(x1) for x1 in x], rotation=15)"
      ],
      "execution_count": null,
      "outputs": []
    },
    {
      "cell_type": "markdown",
      "metadata": {
        "id": "nrd35Wt407Lc"
      },
      "source": [
        "### The stats by category "
      ]
    },
    {
      "cell_type": "markdown",
      "metadata": {
        "id": "w93LU1xo2W8b"
      },
      "source": [
        "the mean of number of words and unique  by category"
      ]
    },
    {
      "cell_type": "code",
      "metadata": {
        "id": "aOZAH4Kn2265"
      },
      "source": [
        "df_stats['category'] = df_news['category']\n",
        "df_stats.head()"
      ],
      "execution_count": null,
      "outputs": []
    },
    {
      "cell_type": "code",
      "metadata": {
        "id": "-w9z1r1Q9kdm"
      },
      "source": [
        "\n",
        "plt.bar(x=\"category\",height ='n_unique_words'  ,data=df_stats.groupby(['category']).mean().sort_values('n_unique_words', ascending=False).head(10).reset_index())\n",
        "plt.title('Unique word by category')\n",
        "plt.xticks(rotation=60)"
      ],
      "execution_count": null,
      "outputs": []
    },
    {
      "cell_type": "code",
      "metadata": {
        "id": "99r2Yqmq-67M"
      },
      "source": [
        "plt.bar(x=\"category\",height ='n_sents'  ,data=df_stats.groupby(['category']).mean().sort_values('n_sents', ascending=False).head(10).reset_index())\n",
        "plt.title('Numero de oraciones por categoría')\n",
        "plt.xticks(rotation=60)"
      ],
      "execution_count": null,
      "outputs": []
    },
    {
      "cell_type": "code",
      "metadata": {
        "id": "jxc07BAV_bnG"
      },
      "source": [
        "plt.bar(x=\"category\",height ='n_monosyllable_words'  ,data=df_stats.groupby(['category']).mean().sort_values('n_monosyllable_words', ascending=False).head(10).reset_index())\n",
        "plt.title('Numero de monosílabas por categoría')\n",
        "plt.xticks(rotation=60)"
      ],
      "execution_count": null,
      "outputs": []
    },
    {
      "cell_type": "code",
      "metadata": {
        "id": "R7GqQRQH_v_E"
      },
      "source": [
        "plt.bar(x=\"category\",height ='n_polysyllable_words'  ,data=df_stats.groupby(['category']).mean().sort_values('n_polysyllable_words', ascending=False).head(10).reset_index())\n",
        "plt.title('Numero de Poly-sílabas por categoría')\n",
        "plt.xticks(rotation=60)"
      ],
      "execution_count": null,
      "outputs": []
    },
    {
      "cell_type": "code",
      "metadata": {
        "id": "xavxqsiP3Lm5"
      },
      "source": [
        "df_stats.groupby(['category']).mean().sort_values('n_unique_words', ascending=False).head(10).reset_index()"
      ],
      "execution_count": null,
      "outputs": []
    },
    {
      "cell_type": "markdown",
      "metadata": {
        "id": "uCP32B2SCIEt"
      },
      "source": [
        "### What can be said about the authors?\n"
      ]
    },
    {
      "cell_type": "code",
      "metadata": {
        "id": "D-hkVpGPCNiz"
      },
      "source": [
        "df_news['qty']= 1\n",
        "df_authors = df_news.groupby(['authors']).agg({'polarity': 'mean', \n",
        "                                     'subjectivity': 'mean', \n",
        "                                    'len': 'mean',\n",
        "                                     'qty':'count'}).reset_index()\n",
        "df_authors.head()"
      ],
      "execution_count": null,
      "outputs": []
    },
    {
      "cell_type": "code",
      "metadata": {
        "id": "fWHwS0bnOAry"
      },
      "source": [
        "df_authors.drop([0], axis=0, inplace =True)"
      ],
      "execution_count": null,
      "outputs": []
    },
    {
      "cell_type": "code",
      "metadata": {
        "id": "g6Yemt_PO3k5"
      },
      "source": [
        "df_authors.reset_index(drop=True, inplace=True)\n",
        "df_authors.head()"
      ],
      "execution_count": null,
      "outputs": []
    },
    {
      "cell_type": "markdown",
      "metadata": {
        "id": "8n2lHw0LXve_"
      },
      "source": [
        "####  Top Prolifics Authors"
      ]
    },
    {
      "cell_type": "code",
      "metadata": {
        "id": "yKRCI1wLPHej"
      },
      "source": [
        "df_authors.sort_values(['qty'], ascending=False).head(10)"
      ],
      "execution_count": null,
      "outputs": []
    },
    {
      "cell_type": "code",
      "metadata": {
        "id": "kLdAPtlAiuZB"
      },
      "source": [
        "def plot_grouped_bar(df, title):\n",
        "  barWidth = 0.25\n",
        "\n",
        "  # set height of bar\n",
        "  bars1 = df.polarity\n",
        "  bars2 = df.subjectivity\n",
        "\n",
        "  # Set position of bar on X axis\n",
        "  r1 = np.arange(len(bars1))\n",
        "  r2 = [x + barWidth for x in r1]\n",
        "\n",
        "  # Make the plot\n",
        "  plt.figure(figsize=(15,10))\n",
        "  plt.bar(r1, bars1, color='#F08080', width=barWidth, edgecolor='white', label='Polarity')\n",
        "  plt.bar(r2, bars2, color='#B0C4DE', width=barWidth, edgecolor='white', label='Subjectivity')\n",
        "\n",
        "  # Add xticks on the middle of the group bars\n",
        "  plt.title(title)\n",
        "  plt.xlabel('group', fontweight='bold')\n",
        "  plt.xticks([r + barWidth for r in range(len(bars1))], df.authors)\n",
        "  plt.xticks(rotation=60)\n",
        "  plt.legend()\n",
        "  plt.show()"
      ],
      "execution_count": null,
      "outputs": []
    },
    {
      "cell_type": "code",
      "metadata": {
        "id": "YmDjsyUJjAXC"
      },
      "source": [
        "plot_grouped_bar(df_authors.sort_values(['qty'], ascending=False).head(10), \"Polarity and Subjectivity of the most Prolific Authors\")"
      ],
      "execution_count": null,
      "outputs": []
    },
    {
      "cell_type": "markdown",
      "metadata": {
        "id": "idktfQXUYStt"
      },
      "source": [
        "By means the author with the most articles  have written around 1000 articles along the years, with a hight subjectivity an neutral polarity."
      ]
    },
    {
      "cell_type": "code",
      "metadata": {
        "id": "eiDoEZkjZgcY"
      },
      "source": [
        "df_authors[df_authors.qty >100].sort_values(['polarity'], ascending=False).head(10)"
      ],
      "execution_count": null,
      "outputs": []
    },
    {
      "cell_type": "code",
      "metadata": {
        "id": "rHGjoQ-od7Wb"
      },
      "source": [
        "\n",
        "plot_grouped_bar(df_authors[df_authors.qty >100].sort_values(['polarity'], ascending=False).head(10), \"Authors with top Polarities (more of 100 articles)\")"
      ],
      "execution_count": null,
      "outputs": []
    },
    {
      "cell_type": "code",
      "metadata": {
        "id": "FNsrZd5sZ4bo"
      },
      "source": [
        "df_authors[df_authors.qty >100].sort_values(['subjectivity'], ascending=False).head(10)"
      ],
      "execution_count": null,
      "outputs": []
    },
    {
      "cell_type": "code",
      "metadata": {
        "id": "0IU9QsobiX8a"
      },
      "source": [
        "plot_grouped_bar(df_authors[df_authors.qty >100].sort_values(['subjectivity'], ascending=False).head(10), \"Authors with top Subjectivities (more of 100 articles)\")"
      ],
      "execution_count": null,
      "outputs": []
    },
    {
      "cell_type": "markdown",
      "metadata": {
        "id": "fyLYlP8UCPHC"
      },
      "source": [
        "### What useful information can be extracted from the data?"
      ]
    }
  ]
}